{
  "nbformat": 4,
  "nbformat_minor": 0,
  "metadata": {
    "colab": {
      "name": "covariancia-correlacao.ipynb",
      "provenance": [],
      "collapsed_sections": [],
      "authorship_tag": "ABX9TyO2eIz0dmfiSQ598aElzvoH"
    },
    "kernelspec": {
      "name": "python3",
      "display_name": "Python 3"
    }
  },
  "cells": [
    {
      "cell_type": "markdown",
      "metadata": {
        "id": "1J4J0rXM3hB-"
      },
      "source": [
        "# CALCULANDO VARIÂNCIA, COVARIÂNCIA, CORRELAÇÃO, "
      ]
    },
    {
      "cell_type": "code",
      "metadata": {
        "id": "i1FvvAGDwwcU"
      },
      "source": [
        "import numpy as np\n",
        "import pandas as pd\n",
        "import matplotlib.pyplot as plt\n",
        "import seaborn as sns\n",
        "from pandas_datareader import data as wb\n",
        "\n",
        "sns.set_style('darkgrid')\n",
        "%matplotlib inline"
      ],
      "execution_count": 1,
      "outputs": []
    },
    {
      "cell_type": "code",
      "metadata": {
        "id": "xSlmOvn_yubG"
      },
      "source": [
        "tickers = ['PG', 'BEI.DE']\n",
        "\n",
        "sec_data = pd.DataFrame()\n",
        "\n",
        "for tick in tickers:\n",
        "    sec_data[tick] = wb.DataReader(tick, data_source=\"yahoo\",\n",
        "                                   start='2007-1-1')['Adj Close']\n"
      ],
      "execution_count": 2,
      "outputs": []
    },
    {
      "cell_type": "code",
      "metadata": {
        "colab": {
          "base_uri": "https://localhost:8080/",
          "height": 238
        },
        "id": "Xg5wL9-gyu98",
        "outputId": "065edc45-0375-4b2c-9f0d-45a9eb1f8aee"
      },
      "source": [
        "sec_data.head()"
      ],
      "execution_count": 3,
      "outputs": [
        {
          "output_type": "execute_result",
          "data": {
            "text/html": [
              "<div>\n",
              "<style scoped>\n",
              "    .dataframe tbody tr th:only-of-type {\n",
              "        vertical-align: middle;\n",
              "    }\n",
              "\n",
              "    .dataframe tbody tr th {\n",
              "        vertical-align: top;\n",
              "    }\n",
              "\n",
              "    .dataframe thead th {\n",
              "        text-align: right;\n",
              "    }\n",
              "</style>\n",
              "<table border=\"1\" class=\"dataframe\">\n",
              "  <thead>\n",
              "    <tr style=\"text-align: right;\">\n",
              "      <th></th>\n",
              "      <th>PG</th>\n",
              "      <th>BEI.DE</th>\n",
              "    </tr>\n",
              "    <tr>\n",
              "      <th>Date</th>\n",
              "      <th></th>\n",
              "      <th></th>\n",
              "    </tr>\n",
              "  </thead>\n",
              "  <tbody>\n",
              "    <tr>\n",
              "      <th>2007-01-03</th>\n",
              "      <td>42.636059</td>\n",
              "      <td>40.627869</td>\n",
              "    </tr>\n",
              "    <tr>\n",
              "      <th>2007-01-04</th>\n",
              "      <td>42.312363</td>\n",
              "      <td>40.894630</td>\n",
              "    </tr>\n",
              "    <tr>\n",
              "      <th>2007-01-05</th>\n",
              "      <td>41.949009</td>\n",
              "      <td>40.053936</td>\n",
              "    </tr>\n",
              "    <tr>\n",
              "      <th>2007-01-08</th>\n",
              "      <td>42.041492</td>\n",
              "      <td>40.062027</td>\n",
              "    </tr>\n",
              "    <tr>\n",
              "      <th>2007-01-09</th>\n",
              "      <td>41.935799</td>\n",
              "      <td>39.156666</td>\n",
              "    </tr>\n",
              "  </tbody>\n",
              "</table>\n",
              "</div>"
            ],
            "text/plain": [
              "                   PG     BEI.DE\n",
              "Date                            \n",
              "2007-01-03  42.636059  40.627869\n",
              "2007-01-04  42.312363  40.894630\n",
              "2007-01-05  41.949009  40.053936\n",
              "2007-01-08  42.041492  40.062027\n",
              "2007-01-09  41.935799  39.156666"
            ]
          },
          "metadata": {
            "tags": []
          },
          "execution_count": 3
        }
      ]
    },
    {
      "cell_type": "code",
      "metadata": {
        "id": "_z5aMVAfzTLJ"
      },
      "source": [
        "# Calcular o retorno logaritmico de cada uma\n",
        "sec_returns = np.log(sec_data / sec_data.shift(1))"
      ],
      "execution_count": 4,
      "outputs": []
    },
    {
      "cell_type": "code",
      "metadata": {
        "colab": {
          "base_uri": "https://localhost:8080/",
          "height": 455
        },
        "id": "SKR7pWA7zTNU",
        "outputId": "6115eb85-a0b9-43ae-cbde-c0afb4c8d777"
      },
      "source": [
        "sec_returns"
      ],
      "execution_count": 5,
      "outputs": [
        {
          "output_type": "execute_result",
          "data": {
            "text/html": [
              "<div>\n",
              "<style scoped>\n",
              "    .dataframe tbody tr th:only-of-type {\n",
              "        vertical-align: middle;\n",
              "    }\n",
              "\n",
              "    .dataframe tbody tr th {\n",
              "        vertical-align: top;\n",
              "    }\n",
              "\n",
              "    .dataframe thead th {\n",
              "        text-align: right;\n",
              "    }\n",
              "</style>\n",
              "<table border=\"1\" class=\"dataframe\">\n",
              "  <thead>\n",
              "    <tr style=\"text-align: right;\">\n",
              "      <th></th>\n",
              "      <th>PG</th>\n",
              "      <th>BEI.DE</th>\n",
              "    </tr>\n",
              "    <tr>\n",
              "      <th>Date</th>\n",
              "      <th></th>\n",
              "      <th></th>\n",
              "    </tr>\n",
              "  </thead>\n",
              "  <tbody>\n",
              "    <tr>\n",
              "      <th>2007-01-03</th>\n",
              "      <td>NaN</td>\n",
              "      <td>NaN</td>\n",
              "    </tr>\n",
              "    <tr>\n",
              "      <th>2007-01-04</th>\n",
              "      <td>-0.007621</td>\n",
              "      <td>0.006545</td>\n",
              "    </tr>\n",
              "    <tr>\n",
              "      <th>2007-01-05</th>\n",
              "      <td>-0.008624</td>\n",
              "      <td>-0.020772</td>\n",
              "    </tr>\n",
              "    <tr>\n",
              "      <th>2007-01-08</th>\n",
              "      <td>0.002202</td>\n",
              "      <td>0.000202</td>\n",
              "    </tr>\n",
              "    <tr>\n",
              "      <th>2007-01-09</th>\n",
              "      <td>-0.002517</td>\n",
              "      <td>-0.022858</td>\n",
              "    </tr>\n",
              "    <tr>\n",
              "      <th>...</th>\n",
              "      <td>...</td>\n",
              "      <td>...</td>\n",
              "    </tr>\n",
              "    <tr>\n",
              "      <th>2021-01-07</th>\n",
              "      <td>-0.009390</td>\n",
              "      <td>-0.006403</td>\n",
              "    </tr>\n",
              "    <tr>\n",
              "      <th>2021-01-08</th>\n",
              "      <td>-0.000432</td>\n",
              "      <td>0.007254</td>\n",
              "    </tr>\n",
              "    <tr>\n",
              "      <th>2021-01-11</th>\n",
              "      <td>-0.006796</td>\n",
              "      <td>-0.002341</td>\n",
              "    </tr>\n",
              "    <tr>\n",
              "      <th>2021-01-12</th>\n",
              "      <td>-0.005820</td>\n",
              "      <td>-0.012436</td>\n",
              "    </tr>\n",
              "    <tr>\n",
              "      <th>2021-01-13</th>\n",
              "      <td>0.005965</td>\n",
              "      <td>0.004306</td>\n",
              "    </tr>\n",
              "  </tbody>\n",
              "</table>\n",
              "<p>3533 rows × 2 columns</p>\n",
              "</div>"
            ],
            "text/plain": [
              "                  PG    BEI.DE\n",
              "Date                          \n",
              "2007-01-03       NaN       NaN\n",
              "2007-01-04 -0.007621  0.006545\n",
              "2007-01-05 -0.008624 -0.020772\n",
              "2007-01-08  0.002202  0.000202\n",
              "2007-01-09 -0.002517 -0.022858\n",
              "...              ...       ...\n",
              "2021-01-07 -0.009390 -0.006403\n",
              "2021-01-08 -0.000432  0.007254\n",
              "2021-01-11 -0.006796 -0.002341\n",
              "2021-01-12 -0.005820 -0.012436\n",
              "2021-01-13  0.005965  0.004306\n",
              "\n",
              "[3533 rows x 2 columns]"
            ]
          },
          "metadata": {
            "tags": []
          },
          "execution_count": 5
        }
      ]
    },
    {
      "cell_type": "markdown",
      "metadata": {
        "id": "L8--oWHQ3gXC"
      },
      "source": [
        "**VARIÂNCIA**"
      ]
    },
    {
      "cell_type": "code",
      "metadata": {
        "colab": {
          "base_uri": "https://localhost:8080/"
        },
        "id": "dtQrFCz0yvAS",
        "outputId": "083da3ea-16aa-472e-9b06-c26e5d7c8074"
      },
      "source": [
        "# O método VAR do numpy calcula a VARIÂNCIA de um objeto\n",
        "PG_var = sec_returns['PG'].var()\n",
        "PG_var"
      ],
      "execution_count": 6,
      "outputs": [
        {
          "output_type": "execute_result",
          "data": {
            "text/plain": [
              "0.00014092250805233884"
            ]
          },
          "metadata": {
            "tags": []
          },
          "execution_count": 6
        }
      ]
    },
    {
      "cell_type": "code",
      "metadata": {
        "colab": {
          "base_uri": "https://localhost:8080/"
        },
        "id": "HgUddMTcyvCg",
        "outputId": "6a279192-1619-4073-f210-f232fdd26325"
      },
      "source": [
        "BEI_var = sec_returns['BEI.DE'].var()\n",
        "BEI_var"
      ],
      "execution_count": 7,
      "outputs": [
        {
          "output_type": "execute_result",
          "data": {
            "text/plain": [
              "0.00019210869276544586"
            ]
          },
          "metadata": {
            "tags": []
          },
          "execution_count": 7
        }
      ]
    },
    {
      "cell_type": "code",
      "metadata": {
        "colab": {
          "base_uri": "https://localhost:8080/"
        },
        "id": "qUGDJm7SyvEo",
        "outputId": "fc8be915-fd37-4dfa-c0ab-803434b7230c"
      },
      "source": [
        "PG_var_a = sec_returns['PG'].var() * 250\n",
        "PG_var_a"
      ],
      "execution_count": 8,
      "outputs": [
        {
          "output_type": "execute_result",
          "data": {
            "text/plain": [
              "0.03523062701308471"
            ]
          },
          "metadata": {
            "tags": []
          },
          "execution_count": 8
        }
      ]
    },
    {
      "cell_type": "code",
      "metadata": {
        "colab": {
          "base_uri": "https://localhost:8080/"
        },
        "id": "NRZf-jl2yvG-",
        "outputId": "a88ffdbb-ae7b-4f8c-9a46-846a0f1df305"
      },
      "source": [
        "BEI_var_a = sec_returns['BEI.DE'].var() * 250\n",
        "BEI_var_a"
      ],
      "execution_count": 9,
      "outputs": [
        {
          "output_type": "execute_result",
          "data": {
            "text/plain": [
              "0.04802717319136147"
            ]
          },
          "metadata": {
            "tags": []
          },
          "execution_count": 9
        }
      ]
    },
    {
      "cell_type": "markdown",
      "metadata": {
        "id": "9Ms9GiK63vGp"
      },
      "source": [
        "**COVARIÂNCIA**"
      ]
    },
    {
      "cell_type": "code",
      "metadata": {
        "colab": {
          "base_uri": "https://localhost:8080/",
          "height": 112
        },
        "id": "miPgVPhV3Baa",
        "outputId": "4b1ccf7b-235b-432d-e55b-bb3ed0b89b97"
      },
      "source": [
        "# O método COV do numpy calcula a COVARIÂNCIA de um objeto\n",
        "cov_matriz = sec_returns.cov()\n",
        "cov_matriz"
      ],
      "execution_count": 10,
      "outputs": [
        {
          "output_type": "execute_result",
          "data": {
            "text/html": [
              "<div>\n",
              "<style scoped>\n",
              "    .dataframe tbody tr th:only-of-type {\n",
              "        vertical-align: middle;\n",
              "    }\n",
              "\n",
              "    .dataframe tbody tr th {\n",
              "        vertical-align: top;\n",
              "    }\n",
              "\n",
              "    .dataframe thead th {\n",
              "        text-align: right;\n",
              "    }\n",
              "</style>\n",
              "<table border=\"1\" class=\"dataframe\">\n",
              "  <thead>\n",
              "    <tr style=\"text-align: right;\">\n",
              "      <th></th>\n",
              "      <th>PG</th>\n",
              "      <th>BEI.DE</th>\n",
              "    </tr>\n",
              "  </thead>\n",
              "  <tbody>\n",
              "    <tr>\n",
              "      <th>PG</th>\n",
              "      <td>0.000141</td>\n",
              "      <td>0.000044</td>\n",
              "    </tr>\n",
              "    <tr>\n",
              "      <th>BEI.DE</th>\n",
              "      <td>0.000044</td>\n",
              "      <td>0.000192</td>\n",
              "    </tr>\n",
              "  </tbody>\n",
              "</table>\n",
              "</div>"
            ],
            "text/plain": [
              "              PG    BEI.DE\n",
              "PG      0.000141  0.000044\n",
              "BEI.DE  0.000044  0.000192"
            ]
          },
          "metadata": {
            "tags": []
          },
          "execution_count": 10
        }
      ]
    },
    {
      "cell_type": "code",
      "metadata": {
        "colab": {
          "base_uri": "https://localhost:8080/",
          "height": 112
        },
        "id": "963HKdju3Bc_",
        "outputId": "5fab98b2-7367-44ae-c00b-411f4dc49ff8"
      },
      "source": [
        "# Essa tabela não contéém valores médios diários\n",
        "# Ela mostra a relação existente entre duas variáveis\n",
        "cov_matriz_a = sec_returns.cov() * 250\n",
        "cov_matriz_a"
      ],
      "execution_count": 11,
      "outputs": [
        {
          "output_type": "execute_result",
          "data": {
            "text/html": [
              "<div>\n",
              "<style scoped>\n",
              "    .dataframe tbody tr th:only-of-type {\n",
              "        vertical-align: middle;\n",
              "    }\n",
              "\n",
              "    .dataframe tbody tr th {\n",
              "        vertical-align: top;\n",
              "    }\n",
              "\n",
              "    .dataframe thead th {\n",
              "        text-align: right;\n",
              "    }\n",
              "</style>\n",
              "<table border=\"1\" class=\"dataframe\">\n",
              "  <thead>\n",
              "    <tr style=\"text-align: right;\">\n",
              "      <th></th>\n",
              "      <th>PG</th>\n",
              "      <th>BEI.DE</th>\n",
              "    </tr>\n",
              "  </thead>\n",
              "  <tbody>\n",
              "    <tr>\n",
              "      <th>PG</th>\n",
              "      <td>0.035231</td>\n",
              "      <td>0.011111</td>\n",
              "    </tr>\n",
              "    <tr>\n",
              "      <th>BEI.DE</th>\n",
              "      <td>0.011111</td>\n",
              "      <td>0.048027</td>\n",
              "    </tr>\n",
              "  </tbody>\n",
              "</table>\n",
              "</div>"
            ],
            "text/plain": [
              "              PG    BEI.DE\n",
              "PG      0.035231  0.011111\n",
              "BEI.DE  0.011111  0.048027"
            ]
          },
          "metadata": {
            "tags": []
          },
          "execution_count": 11
        }
      ]
    },
    {
      "cell_type": "markdown",
      "metadata": {
        "id": "6-5iYzMs35S7"
      },
      "source": [
        "**CORRELAÇÃO**"
      ]
    },
    {
      "cell_type": "code",
      "metadata": {
        "colab": {
          "base_uri": "https://localhost:8080/",
          "height": 112
        },
        "id": "aDmjsLHa3BfQ",
        "outputId": "7f2a0a52-a131-4976-90bb-dea926f635f4"
      },
      "source": [
        "# A TAXA DE RETORNO DAS AÇÕES DAS DUAS EMPRESAS TEM BAIXA CORRELAÇÃO\n",
        "corr_matriz = sec_returns.corr()\n",
        "corr_matriz"
      ],
      "execution_count": 12,
      "outputs": [
        {
          "output_type": "execute_result",
          "data": {
            "text/html": [
              "<div>\n",
              "<style scoped>\n",
              "    .dataframe tbody tr th:only-of-type {\n",
              "        vertical-align: middle;\n",
              "    }\n",
              "\n",
              "    .dataframe tbody tr th {\n",
              "        vertical-align: top;\n",
              "    }\n",
              "\n",
              "    .dataframe thead th {\n",
              "        text-align: right;\n",
              "    }\n",
              "</style>\n",
              "<table border=\"1\" class=\"dataframe\">\n",
              "  <thead>\n",
              "    <tr style=\"text-align: right;\">\n",
              "      <th></th>\n",
              "      <th>PG</th>\n",
              "      <th>BEI.DE</th>\n",
              "    </tr>\n",
              "  </thead>\n",
              "  <tbody>\n",
              "    <tr>\n",
              "      <th>PG</th>\n",
              "      <td>1.000000</td>\n",
              "      <td>0.269572</td>\n",
              "    </tr>\n",
              "    <tr>\n",
              "      <th>BEI.DE</th>\n",
              "      <td>0.269572</td>\n",
              "      <td>1.000000</td>\n",
              "    </tr>\n",
              "  </tbody>\n",
              "</table>\n",
              "</div>"
            ],
            "text/plain": [
              "              PG    BEI.DE\n",
              "PG      1.000000  0.269572\n",
              "BEI.DE  0.269572  1.000000"
            ]
          },
          "metadata": {
            "tags": []
          },
          "execution_count": 12
        }
      ]
    },
    {
      "cell_type": "code",
      "metadata": {
        "id": "wrM1SiG_3Bhe"
      },
      "source": [
        "# OBS: NÃO é a correlação entre o preço das duas ações"
      ],
      "execution_count": 13,
      "outputs": []
    }
  ]
}
{
  "nbformat": 4,
  "nbformat_minor": 0,
  "metadata": {
    "colab": {
      "name": "finance-portfolio-python-part1.ipynb",
      "provenance": [],
      "collapsed_sections": [],
      "authorship_tag": "ABX9TyOpsEvskVnbtkznSddKcQvR"
    },
    "kernelspec": {
      "name": "python3",
      "display_name": "Python 3"
    }
  },
  "cells": [
    {
      "cell_type": "markdown",
      "metadata": {
        "id": "LrjMoDDcK-7C"
      },
      "source": [
        "# **CALCULO TAXA DE RETORNO DE CARTEIRA**"
      ]
    },
    {
      "cell_type": "code",
      "metadata": {
        "id": "pCQE_Fg9KGHK"
      },
      "source": [
        "# Import das bibliotecas e módulos\n",
        "import numpy as np\n",
        "import pandas as pd\n",
        "import matplotlib.pyplot as plt\n",
        "import seaborn as sns\n",
        "from pandas_datareader import data as wb\n",
        "\n",
        "sns.set_style('whitegrid')\n",
        "%matplotlib inline"
      ],
      "execution_count": 1,
      "outputs": []
    },
    {
      "cell_type": "code",
      "metadata": {
        "id": "05xe0DpPLGJa"
      },
      "source": [
        "# IMPORT DAS EMPRESAS PELO SEU TICKER: PG, IBM, FORD E GE\n",
        "tickers = ['PG', 'IBM', 'F', 'GE']\n",
        "dados = pd.DataFrame()\n",
        "for tick in tickers:\n",
        "    dados[tick] = wb.DataReader(tick, data_source='yahoo', start='1995-1-1')['Adj Close']"
      ],
      "execution_count": 2,
      "outputs": []
    },
    {
      "cell_type": "code",
      "metadata": {
        "colab": {
          "base_uri": "https://localhost:8080/"
        },
        "id": "p7RhgLhSLGLo",
        "outputId": "0e901d7e-699b-47b6-cfd8-9aaeee7c4070"
      },
      "source": [
        "dados.info()"
      ],
      "execution_count": 3,
      "outputs": [
        {
          "output_type": "stream",
          "text": [
            "<class 'pandas.core.frame.DataFrame'>\n",
            "DatetimeIndex: 6553 entries, 1995-01-03 to 2021-01-11\n",
            "Data columns (total 4 columns):\n",
            " #   Column  Non-Null Count  Dtype  \n",
            "---  ------  --------------  -----  \n",
            " 0   PG      6553 non-null   float64\n",
            " 1   IBM     6553 non-null   float64\n",
            " 2   F       6553 non-null   float64\n",
            " 3   GE      6553 non-null   float64\n",
            "dtypes: float64(4)\n",
            "memory usage: 256.0 KB\n"
          ],
          "name": "stdout"
        }
      ]
    },
    {
      "cell_type": "code",
      "metadata": {
        "colab": {
          "base_uri": "https://localhost:8080/",
          "height": 238
        },
        "id": "XZMsuIurLGNx",
        "outputId": "e4fbb5e7-f267-450f-9514-0db510d1bcdb"
      },
      "source": [
        "dados.head()"
      ],
      "execution_count": 4,
      "outputs": [
        {
          "output_type": "execute_result",
          "data": {
            "text/html": [
              "<div>\n",
              "<style scoped>\n",
              "    .dataframe tbody tr th:only-of-type {\n",
              "        vertical-align: middle;\n",
              "    }\n",
              "\n",
              "    .dataframe tbody tr th {\n",
              "        vertical-align: top;\n",
              "    }\n",
              "\n",
              "    .dataframe thead th {\n",
              "        text-align: right;\n",
              "    }\n",
              "</style>\n",
              "<table border=\"1\" class=\"dataframe\">\n",
              "  <thead>\n",
              "    <tr style=\"text-align: right;\">\n",
              "      <th></th>\n",
              "      <th>PG</th>\n",
              "      <th>IBM</th>\n",
              "      <th>F</th>\n",
              "      <th>GE</th>\n",
              "    </tr>\n",
              "    <tr>\n",
              "      <th>Date</th>\n",
              "      <th></th>\n",
              "      <th></th>\n",
              "      <th></th>\n",
              "      <th></th>\n",
              "    </tr>\n",
              "  </thead>\n",
              "  <tbody>\n",
              "    <tr>\n",
              "      <th>1995-01-03</th>\n",
              "      <td>8.215732</td>\n",
              "      <td>11.250346</td>\n",
              "      <td>4.380183</td>\n",
              "      <td>4.122630</td>\n",
              "    </tr>\n",
              "    <tr>\n",
              "      <th>1995-01-04</th>\n",
              "      <td>8.149876</td>\n",
              "      <td>11.345690</td>\n",
              "      <td>4.498034</td>\n",
              "      <td>4.122630</td>\n",
              "    </tr>\n",
              "    <tr>\n",
              "      <th>1995-01-05</th>\n",
              "      <td>8.034625</td>\n",
              "      <td>11.288483</td>\n",
              "      <td>4.458752</td>\n",
              "      <td>4.132737</td>\n",
              "    </tr>\n",
              "    <tr>\n",
              "      <th>1995-01-06</th>\n",
              "      <td>8.051086</td>\n",
              "      <td>11.460097</td>\n",
              "      <td>4.458752</td>\n",
              "      <td>4.112525</td>\n",
              "    </tr>\n",
              "    <tr>\n",
              "      <th>1995-01-09</th>\n",
              "      <td>8.018162</td>\n",
              "      <td>11.517305</td>\n",
              "      <td>4.537320</td>\n",
              "      <td>4.072110</td>\n",
              "    </tr>\n",
              "  </tbody>\n",
              "</table>\n",
              "</div>"
            ],
            "text/plain": [
              "                  PG        IBM         F        GE\n",
              "Date                                               \n",
              "1995-01-03  8.215732  11.250346  4.380183  4.122630\n",
              "1995-01-04  8.149876  11.345690  4.498034  4.122630\n",
              "1995-01-05  8.034625  11.288483  4.458752  4.132737\n",
              "1995-01-06  8.051086  11.460097  4.458752  4.112525\n",
              "1995-01-09  8.018162  11.517305  4.537320  4.072110"
            ]
          },
          "metadata": {
            "tags": []
          },
          "execution_count": 4
        }
      ]
    },
    {
      "cell_type": "code",
      "metadata": {
        "colab": {
          "base_uri": "https://localhost:8080/",
          "height": 238
        },
        "id": "nUXn3g3eLGP2",
        "outputId": "1e487d0d-08d1-4bb2-cda1-7392bc5a6235"
      },
      "source": [
        "dados.tail()"
      ],
      "execution_count": 5,
      "outputs": [
        {
          "output_type": "execute_result",
          "data": {
            "text/html": [
              "<div>\n",
              "<style scoped>\n",
              "    .dataframe tbody tr th:only-of-type {\n",
              "        vertical-align: middle;\n",
              "    }\n",
              "\n",
              "    .dataframe tbody tr th {\n",
              "        vertical-align: top;\n",
              "    }\n",
              "\n",
              "    .dataframe thead th {\n",
              "        text-align: right;\n",
              "    }\n",
              "</style>\n",
              "<table border=\"1\" class=\"dataframe\">\n",
              "  <thead>\n",
              "    <tr style=\"text-align: right;\">\n",
              "      <th></th>\n",
              "      <th>PG</th>\n",
              "      <th>IBM</th>\n",
              "      <th>F</th>\n",
              "      <th>GE</th>\n",
              "    </tr>\n",
              "    <tr>\n",
              "      <th>Date</th>\n",
              "      <th></th>\n",
              "      <th></th>\n",
              "      <th></th>\n",
              "      <th></th>\n",
              "    </tr>\n",
              "  </thead>\n",
              "  <tbody>\n",
              "    <tr>\n",
              "      <th>2021-01-05</th>\n",
              "      <td>138.699997</td>\n",
              "      <td>126.139999</td>\n",
              "      <td>8.650</td>\n",
              "      <td>10.77</td>\n",
              "    </tr>\n",
              "    <tr>\n",
              "      <th>2021-01-06</th>\n",
              "      <td>140.160004</td>\n",
              "      <td>129.289993</td>\n",
              "      <td>8.840</td>\n",
              "      <td>11.36</td>\n",
              "    </tr>\n",
              "    <tr>\n",
              "      <th>2021-01-07</th>\n",
              "      <td>138.850006</td>\n",
              "      <td>128.990005</td>\n",
              "      <td>9.060</td>\n",
              "      <td>11.27</td>\n",
              "    </tr>\n",
              "    <tr>\n",
              "      <th>2021-01-08</th>\n",
              "      <td>138.789993</td>\n",
              "      <td>128.529999</td>\n",
              "      <td>9.000</td>\n",
              "      <td>11.34</td>\n",
              "    </tr>\n",
              "    <tr>\n",
              "      <th>2021-01-11</th>\n",
              "      <td>138.100006</td>\n",
              "      <td>128.619995</td>\n",
              "      <td>9.145</td>\n",
              "      <td>11.40</td>\n",
              "    </tr>\n",
              "  </tbody>\n",
              "</table>\n",
              "</div>"
            ],
            "text/plain": [
              "                    PG         IBM      F     GE\n",
              "Date                                            \n",
              "2021-01-05  138.699997  126.139999  8.650  10.77\n",
              "2021-01-06  140.160004  129.289993  8.840  11.36\n",
              "2021-01-07  138.850006  128.990005  9.060  11.27\n",
              "2021-01-08  138.789993  128.529999  9.000  11.34\n",
              "2021-01-11  138.100006  128.619995  9.145  11.40"
            ]
          },
          "metadata": {
            "tags": []
          },
          "execution_count": 5
        }
      ]
    },
    {
      "cell_type": "code",
      "metadata": {
        "colab": {
          "base_uri": "https://localhost:8080/"
        },
        "id": "hM6U4jOYMttf",
        "outputId": "f3622742-0643-4f94-a797-adcb0dc94083"
      },
      "source": [
        "# NORMALIZANDO OS DADOS PARA 100\n",
        "dados.iloc[0]"
      ],
      "execution_count": 6,
      "outputs": [
        {
          "output_type": "execute_result",
          "data": {
            "text/plain": [
              "PG      8.215732\n",
              "IBM    11.250346\n",
              "F       4.380183\n",
              "GE      4.122630\n",
              "Name: 1995-01-03 00:00:00, dtype: float64"
            ]
          },
          "metadata": {
            "tags": []
          },
          "execution_count": 6
        }
      ]
    },
    {
      "cell_type": "code",
      "metadata": {
        "colab": {
          "base_uri": "https://localhost:8080/",
          "height": 533
        },
        "id": "-O0Nc3mHM96b",
        "outputId": "05e17405-3332-4b4a-d334-d6d8f2a8d970"
      },
      "source": [
        "(dados / dados.iloc[0] * 100).plot(figsize=(12,9))"
      ],
      "execution_count": 7,
      "outputs": [
        {
          "output_type": "execute_result",
          "data": {
            "text/plain": [
              "<matplotlib.axes._subplots.AxesSubplot at 0x7f4cd51036d8>"
            ]
          },
          "metadata": {
            "tags": []
          },
          "execution_count": 7
        },
        {
          "output_type": "display_data",
          "data": {
            "image/png": "[encoded data removed]",
            "text/plain": [
              "<Figure size 864x648 with 1 Axes>"
            ]
          },
          "metadata": {
            "tags": [],
            "needs_background": "light"
          }
        }
      ]
    },
    {
      "cell_type": "markdown",
      "metadata": {
        "id": "nssUO3tFOPKo"
      },
      "source": [
        "# **CALCULO TAXA DE RETORNO SIMPLES DE UM PORTIFOLIO DE SECURITIES**"
      ]
    },
    {
      "cell_type": "code",
      "metadata": {
        "colab": {
          "base_uri": "https://localhost:8080/",
          "height": 238
        },
        "id": "sWF1GbpoOksk",
        "outputId": "9167dec5-42ea-415a-c9a7-9fba9bd0fa71"
      },
      "source": [
        "# CRIANDO MATRIZ PARA RECEBER OS DADOS ANTES DE SEREM MULTIPLICADOS POR 25%\n",
        "matriz_port = (dados / dados.shift(1)) -1\n",
        "matriz_port.head()"
      ],
      "execution_count": 8,
      "outputs": [
        {
          "output_type": "execute_result",
          "data": {
            "text/html": [
              "<div>\n",
              "<style scoped>\n",
              "    .dataframe tbody tr th:only-of-type {\n",
              "        vertical-align: middle;\n",
              "    }\n",
              "\n",
              "    .dataframe tbody tr th {\n",
              "        vertical-align: top;\n",
              "    }\n",
              "\n",
              "    .dataframe thead th {\n",
              "        text-align: right;\n",
              "    }\n",
              "</style>\n",
              "<table border=\"1\" class=\"dataframe\">\n",
              "  <thead>\n",
              "    <tr style=\"text-align: right;\">\n",
              "      <th></th>\n",
              "      <th>PG</th>\n",
              "      <th>IBM</th>\n",
              "      <th>F</th>\n",
              "      <th>GE</th>\n",
              "    </tr>\n",
              "    <tr>\n",
              "      <th>Date</th>\n",
              "      <th></th>\n",
              "      <th></th>\n",
              "      <th></th>\n",
              "      <th></th>\n",
              "    </tr>\n",
              "  </thead>\n",
              "  <tbody>\n",
              "    <tr>\n",
              "      <th>1995-01-03</th>\n",
              "      <td>NaN</td>\n",
              "      <td>NaN</td>\n",
              "      <td>NaN</td>\n",
              "      <td>NaN</td>\n",
              "    </tr>\n",
              "    <tr>\n",
              "      <th>1995-01-04</th>\n",
              "      <td>-0.008016</td>\n",
              "      <td>0.008475</td>\n",
              "      <td>0.026905</td>\n",
              "      <td>0.000000</td>\n",
              "    </tr>\n",
              "    <tr>\n",
              "      <th>1995-01-05</th>\n",
              "      <td>-0.014141</td>\n",
              "      <td>-0.005042</td>\n",
              "      <td>-0.008733</td>\n",
              "      <td>0.002452</td>\n",
              "    </tr>\n",
              "    <tr>\n",
              "      <th>1995-01-06</th>\n",
              "      <td>0.002049</td>\n",
              "      <td>0.015203</td>\n",
              "      <td>0.000000</td>\n",
              "      <td>-0.004891</td>\n",
              "    </tr>\n",
              "    <tr>\n",
              "      <th>1995-01-09</th>\n",
              "      <td>-0.004089</td>\n",
              "      <td>0.004992</td>\n",
              "      <td>0.017621</td>\n",
              "      <td>-0.009827</td>\n",
              "    </tr>\n",
              "  </tbody>\n",
              "</table>\n",
              "</div>"
            ],
            "text/plain": [
              "                  PG       IBM         F        GE\n",
              "Date                                              \n",
              "1995-01-03       NaN       NaN       NaN       NaN\n",
              "1995-01-04 -0.008016  0.008475  0.026905  0.000000\n",
              "1995-01-05 -0.014141 -0.005042 -0.008733  0.002452\n",
              "1995-01-06  0.002049  0.015203  0.000000 -0.004891\n",
              "1995-01-09 -0.004089  0.004992  0.017621 -0.009827"
            ]
          },
          "metadata": {
            "tags": []
          },
          "execution_count": 8
        }
      ]
    },
    {
      "cell_type": "code",
      "metadata": {
        "id": "FKSQTf9_SZMa"
      },
      "source": [
        ""
      ],
      "execution_count": 8,
      "outputs": []
    },
    {
      "cell_type": "code",
      "metadata": {
        "id": "Ef3oDgUnOkvJ"
      },
      "source": [
        "# array do peso/porcentagem das açoes\n",
        "weights = np.array([0.25, 0.25, 0.25, 0.25])"
      ],
      "execution_count": 9,
      "outputs": []
    },
    {
      "cell_type": "code",
      "metadata": {
        "colab": {
          "base_uri": "https://localhost:8080/"
        },
        "id": "2yORhh3IOkz3",
        "outputId": "0e3976da-d757-4249-bbd4-8bde3fd448d1"
      },
      "source": [
        "# Calculando a media de retorno anual atraves da matrix criada anteriormente\n",
        "annual_returns = matriz_port.mean() * 250\n",
        "annual_returns"
      ],
      "execution_count": 10,
      "outputs": [
        {
          "output_type": "execute_result",
          "data": {
            "text/plain": [
              "PG     0.133281\n",
              "IBM    0.131968\n",
              "F      0.107539\n",
              "GE     0.090105\n",
              "dtype: float64"
            ]
          },
          "metadata": {
            "tags": []
          },
          "execution_count": 10
        }
      ]
    },
    {
      "cell_type": "code",
      "metadata": {
        "colab": {
          "base_uri": "https://localhost:8080/"
        },
        "id": "ocQONxIrOk4u",
        "outputId": "c6287596-caf1-445c-9a35-3aca5810f09f"
      },
      "source": [
        "np.dot(annual_returns, weights)"
      ],
      "execution_count": 11,
      "outputs": [
        {
          "output_type": "execute_result",
          "data": {
            "text/plain": [
              "0.11572349945342936"
            ]
          },
          "metadata": {
            "tags": []
          },
          "execution_count": 11
        }
      ]
    },
    {
      "cell_type": "code",
      "metadata": {
        "id": "pxTupeeATq_3"
      },
      "source": [
        "port_1 = (str(round(np.dot(annual_returns, weights), 5) * 100) + '%')"
      ],
      "execution_count": 12,
      "outputs": []
    },
    {
      "cell_type": "code",
      "metadata": {
        "colab": {
          "base_uri": "https://localhost:8080/",
          "height": 36
        },
        "id": "vIE15EeDVB4e",
        "outputId": "0078d86e-2548-4282-d2ac-3ce7f7154ac6"
      },
      "source": [
        "port_1"
      ],
      "execution_count": 13,
      "outputs": [
        {
          "output_type": "execute_result",
          "data": {
            "application/vnd.google.colaboratory.intrinsic+json": {
              "type": "string"
            },
            "text/plain": [
              "'11.572000000000001%'"
            ]
          },
          "metadata": {
            "tags": []
          },
          "execution_count": 13
        }
      ]
    },
    {
      "cell_type": "code",
      "metadata": {
        "id": "9KFuIDOHT-z4"
      },
      "source": [
        "# CRIANDO NOVA CARTEIRA COM NOVOS PESOS PARA CADA AÇÃO\n",
        "weights_2 = np.array([0.4, 0.4, 0.15, 0.05])"
      ],
      "execution_count": 14,
      "outputs": []
    },
    {
      "cell_type": "code",
      "metadata": {
        "id": "j-_SWSe9Uzi6"
      },
      "source": [
        "port_2 = (str(round(np.dot(annual_returns, weights_2), 5) * 100) + '%')"
      ],
      "execution_count": 15,
      "outputs": []
    },
    {
      "cell_type": "code",
      "metadata": {
        "colab": {
          "base_uri": "https://localhost:8080/"
        },
        "id": "oaGkGiLnVIfc",
        "outputId": "2ee81f4f-1987-4f60-bc01-da4a6b297d73"
      },
      "source": [
        "# COMPARANDO OS PORTIFOLIOS:\n",
        "print(port_1)\n",
        "print(\"\\n\")\n",
        "print(port_2)"
      ],
      "execution_count": 16,
      "outputs": [
        {
          "output_type": "stream",
          "text": [
            "11.572000000000001%\n",
            "\n",
            "\n",
            "12.674%\n"
          ],
          "name": "stdout"
        }
      ]
    },
    {
      "cell_type": "code",
      "metadata": {
        "id": "X3XvJ6F9VXt7"
      },
      "source": [
        "# PODEMOS CONCLUIR QUE A SEGUNDA CARTEIRA TEM O RETORNO MAIOR:\n",
        "# PORT_2"
      ],
      "execution_count": 17,
      "outputs": []
    }
  ]
}
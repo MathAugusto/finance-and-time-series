{
  "nbformat": 4,
  "nbformat_minor": 0,
  "metadata": {
    "colab": {
      "name": "risco-portfolio.ipynb",
      "provenance": [],
      "collapsed_sections": [],
      "authorship_tag": "ABX9TyPhX+JbqOxK9D+De8kXNkW+"
    },
    "kernelspec": {
      "name": "python3",
      "display_name": "Python 3"
    }
  },
  "cells": [
    {
      "cell_type": "markdown",
      "metadata": {
        "id": "g4XoxJ9tEi2B"
      },
      "source": [
        "# **CALCULO DE RISCOS DE UM PORTFÓLIO**"
      ]
    },
    {
      "cell_type": "code",
      "metadata": {
        "id": "030V6sloAxCC"
      },
      "source": [
        "# Calcular a variância de um portfólio que contém duas ou mais ações\n",
        "import numpy as np\n",
        "import pandas as pd\n",
        "import matplotlib.pyplot as plt\n",
        "import seaborn as sns\n",
        "from pandas_datareader import data as wb\n",
        "\n",
        "sns.set_style('whitegrid')\n",
        "%matplotlib inline"
      ],
      "execution_count": 1,
      "outputs": []
    },
    {
      "cell_type": "code",
      "metadata": {
        "colab": {
          "base_uri": "https://localhost:8080/",
          "height": 238
        },
        "id": "7ogVshlYCgkL",
        "outputId": "58c2597d-d688-4e67-f8d1-8db31e15afc5"
      },
      "source": [
        "tickers = ['PG', 'BEI.DE']\n",
        "\n",
        "sec_data = pd.DataFrame()\n",
        "\n",
        "for tick in tickers:\n",
        "    sec_data[tick] = wb.DataReader(tick, data_source=\"yahoo\",\n",
        "                                   start='2007-1-1')['Adj Close']\n",
        "sec_data.head()"
      ],
      "execution_count": 2,
      "outputs": [
        {
          "output_type": "execute_result",
          "data": {
            "text/html": [
              "<div>\n",
              "<style scoped>\n",
              "    .dataframe tbody tr th:only-of-type {\n",
              "        vertical-align: middle;\n",
              "    }\n",
              "\n",
              "    .dataframe tbody tr th {\n",
              "        vertical-align: top;\n",
              "    }\n",
              "\n",
              "    .dataframe thead th {\n",
              "        text-align: right;\n",
              "    }\n",
              "</style>\n",
              "<table border=\"1\" class=\"dataframe\">\n",
              "  <thead>\n",
              "    <tr style=\"text-align: right;\">\n",
              "      <th></th>\n",
              "      <th>PG</th>\n",
              "      <th>BEI.DE</th>\n",
              "    </tr>\n",
              "    <tr>\n",
              "      <th>Date</th>\n",
              "      <th></th>\n",
              "      <th></th>\n",
              "    </tr>\n",
              "  </thead>\n",
              "  <tbody>\n",
              "    <tr>\n",
              "      <th>2007-01-03</th>\n",
              "      <td>42.636059</td>\n",
              "      <td>40.627869</td>\n",
              "    </tr>\n",
              "    <tr>\n",
              "      <th>2007-01-04</th>\n",
              "      <td>42.312363</td>\n",
              "      <td>40.894630</td>\n",
              "    </tr>\n",
              "    <tr>\n",
              "      <th>2007-01-05</th>\n",
              "      <td>41.949009</td>\n",
              "      <td>40.053936</td>\n",
              "    </tr>\n",
              "    <tr>\n",
              "      <th>2007-01-08</th>\n",
              "      <td>42.041492</td>\n",
              "      <td>40.062027</td>\n",
              "    </tr>\n",
              "    <tr>\n",
              "      <th>2007-01-09</th>\n",
              "      <td>41.935799</td>\n",
              "      <td>39.156666</td>\n",
              "    </tr>\n",
              "  </tbody>\n",
              "</table>\n",
              "</div>"
            ],
            "text/plain": [
              "                   PG     BEI.DE\n",
              "Date                            \n",
              "2007-01-03  42.636059  40.627869\n",
              "2007-01-04  42.312363  40.894630\n",
              "2007-01-05  41.949009  40.053936\n",
              "2007-01-08  42.041492  40.062027\n",
              "2007-01-09  41.935799  39.156666"
            ]
          },
          "metadata": {
            "tags": []
          },
          "execution_count": 2
        }
      ]
    },
    {
      "cell_type": "code",
      "metadata": {
        "id": "m39Tb4BGCgmZ"
      },
      "source": [
        "# Calcular o retorno logaritmico de cada uma\n",
        "sec_returns = np.log(sec_data / sec_data.shift(1))"
      ],
      "execution_count": 3,
      "outputs": []
    },
    {
      "cell_type": "code",
      "metadata": {
        "colab": {
          "base_uri": "https://localhost:8080/",
          "height": 455
        },
        "id": "LVgYOyRNCg3Z",
        "outputId": "79f264d7-9b4d-4cbf-c7d8-2bf7687e1931"
      },
      "source": [
        "# Tabela contém o retorno logaritmico de cada uma\n",
        "sec_returns"
      ],
      "execution_count": 4,
      "outputs": [
        {
          "output_type": "execute_result",
          "data": {
            "text/html": [
              "<div>\n",
              "<style scoped>\n",
              "    .dataframe tbody tr th:only-of-type {\n",
              "        vertical-align: middle;\n",
              "    }\n",
              "\n",
              "    .dataframe tbody tr th {\n",
              "        vertical-align: top;\n",
              "    }\n",
              "\n",
              "    .dataframe thead th {\n",
              "        text-align: right;\n",
              "    }\n",
              "</style>\n",
              "<table border=\"1\" class=\"dataframe\">\n",
              "  <thead>\n",
              "    <tr style=\"text-align: right;\">\n",
              "      <th></th>\n",
              "      <th>PG</th>\n",
              "      <th>BEI.DE</th>\n",
              "    </tr>\n",
              "    <tr>\n",
              "      <th>Date</th>\n",
              "      <th></th>\n",
              "      <th></th>\n",
              "    </tr>\n",
              "  </thead>\n",
              "  <tbody>\n",
              "    <tr>\n",
              "      <th>2007-01-03</th>\n",
              "      <td>NaN</td>\n",
              "      <td>NaN</td>\n",
              "    </tr>\n",
              "    <tr>\n",
              "      <th>2007-01-04</th>\n",
              "      <td>-0.007621</td>\n",
              "      <td>0.006545</td>\n",
              "    </tr>\n",
              "    <tr>\n",
              "      <th>2007-01-05</th>\n",
              "      <td>-0.008624</td>\n",
              "      <td>-0.020772</td>\n",
              "    </tr>\n",
              "    <tr>\n",
              "      <th>2007-01-08</th>\n",
              "      <td>0.002202</td>\n",
              "      <td>0.000202</td>\n",
              "    </tr>\n",
              "    <tr>\n",
              "      <th>2007-01-09</th>\n",
              "      <td>-0.002517</td>\n",
              "      <td>-0.022858</td>\n",
              "    </tr>\n",
              "    <tr>\n",
              "      <th>...</th>\n",
              "      <td>...</td>\n",
              "      <td>...</td>\n",
              "    </tr>\n",
              "    <tr>\n",
              "      <th>2021-01-07</th>\n",
              "      <td>-0.009390</td>\n",
              "      <td>-0.006403</td>\n",
              "    </tr>\n",
              "    <tr>\n",
              "      <th>2021-01-08</th>\n",
              "      <td>-0.000432</td>\n",
              "      <td>0.007254</td>\n",
              "    </tr>\n",
              "    <tr>\n",
              "      <th>2021-01-11</th>\n",
              "      <td>-0.006796</td>\n",
              "      <td>-0.002341</td>\n",
              "    </tr>\n",
              "    <tr>\n",
              "      <th>2021-01-12</th>\n",
              "      <td>-0.005820</td>\n",
              "      <td>-0.012436</td>\n",
              "    </tr>\n",
              "    <tr>\n",
              "      <th>2021-01-13</th>\n",
              "      <td>0.001385</td>\n",
              "      <td>0.004306</td>\n",
              "    </tr>\n",
              "  </tbody>\n",
              "</table>\n",
              "<p>3533 rows × 2 columns</p>\n",
              "</div>"
            ],
            "text/plain": [
              "                  PG    BEI.DE\n",
              "Date                          \n",
              "2007-01-03       NaN       NaN\n",
              "2007-01-04 -0.007621  0.006545\n",
              "2007-01-05 -0.008624 -0.020772\n",
              "2007-01-08  0.002202  0.000202\n",
              "2007-01-09 -0.002517 -0.022858\n",
              "...              ...       ...\n",
              "2021-01-07 -0.009390 -0.006403\n",
              "2021-01-08 -0.000432  0.007254\n",
              "2021-01-11 -0.006796 -0.002341\n",
              "2021-01-12 -0.005820 -0.012436\n",
              "2021-01-13  0.001385  0.004306\n",
              "\n",
              "[3533 rows x 2 columns]"
            ]
          },
          "metadata": {
            "tags": []
          },
          "execution_count": 4
        }
      ]
    },
    {
      "cell_type": "code",
      "metadata": {
        "id": "vMPOCxvhCg5d"
      },
      "source": [
        "# ARRAY COM OS PESOS DE CADA AÇÃO\n",
        "weights = np.array([0.5, 0.5])"
      ],
      "execution_count": 5,
      "outputs": []
    },
    {
      "cell_type": "code",
      "metadata": {
        "colab": {
          "base_uri": "https://localhost:8080/"
        },
        "id": "EIrhW09RC9fO",
        "outputId": "77f8b58a-375f-41d1-8045-38cd81281a33"
      },
      "source": [
        "# VARIANCIA DO PORTFOLIO\n",
        "portf_var = np.dot(weights.T, np.dot(sec_returns.cov() * 250, weights))\n",
        "portf_var"
      ],
      "execution_count": 6,
      "outputs": [
        {
          "output_type": "execute_result",
          "data": {
            "text/plain": [
              "0.026368494441870702"
            ]
          },
          "metadata": {
            "tags": []
          },
          "execution_count": 6
        }
      ]
    },
    {
      "cell_type": "code",
      "metadata": {
        "colab": {
          "base_uri": "https://localhost:8080/"
        },
        "id": "lalhEA9XC9ht",
        "outputId": "2bcec6fc-1b79-4d7d-d148-6cdd76bad14b"
      },
      "source": [
        "# VOLATILIDADE DO PORTFOLIO\n",
        "portf_vol = (np.dot(weights.T, np.dot(sec_returns.cov() * 250, weights))) ** 0.5\n",
        "portf_vol"
      ],
      "execution_count": 7,
      "outputs": [
        {
          "output_type": "execute_result",
          "data": {
            "text/plain": [
              "0.16238378749699953"
            ]
          },
          "metadata": {
            "tags": []
          },
          "execution_count": 7
        }
      ]
    },
    {
      "cell_type": "code",
      "metadata": {
        "colab": {
          "base_uri": "https://localhost:8080/"
        },
        "id": "1V9gxmfNC9j5",
        "outputId": "eeef2449-af79-4d92-858e-b3c2d1dd72f6"
      },
      "source": [
        "print(str(round(portf_vol, 5) * 100) + '%')"
      ],
      "execution_count": 8,
      "outputs": [
        {
          "output_type": "stream",
          "text": [
            "16.238%\n"
          ],
          "name": "stdout"
        }
      ]
    },
    {
      "cell_type": "markdown",
      "metadata": {
        "id": "chpL_QUhER99"
      },
      "source": [
        "# **RISCOS NÃO DIVERSIFICAVEL(Sistemático) E RISCO DIVERSIFICAVEL (Idiossincrático)**"
      ]
    },
    {
      "cell_type": "code",
      "metadata": {
        "id": "Tti6FBdFC9oX"
      },
      "source": [
        "# USANDO COM 2 TITULOS, MAS PODE SER APLICADO PARA MAIS DE 2\n",
        "weights = np.array([0.5, 0.5])"
      ],
      "execution_count": 9,
      "outputs": []
    },
    {
      "cell_type": "code",
      "metadata": {
        "colab": {
          "base_uri": "https://localhost:8080/"
        },
        "id": "T-RlrcKIC9qb",
        "outputId": "96ef95c6-853b-4459-df06-7dd2ec5d01ad"
      },
      "source": [
        "weights[0]"
      ],
      "execution_count": 10,
      "outputs": [
        {
          "output_type": "execute_result",
          "data": {
            "text/plain": [
              "0.5"
            ]
          },
          "metadata": {
            "tags": []
          },
          "execution_count": 10
        }
      ]
    },
    {
      "cell_type": "code",
      "metadata": {
        "colab": {
          "base_uri": "https://localhost:8080/"
        },
        "id": "8rFN-wYtC9sl",
        "outputId": "a723aa35-f7a2-4d02-f351-2536b33c2c71"
      },
      "source": [
        "weights[1]"
      ],
      "execution_count": 11,
      "outputs": [
        {
          "output_type": "execute_result",
          "data": {
            "text/plain": [
              "0.5"
            ]
          },
          "metadata": {
            "tags": []
          },
          "execution_count": 11
        }
      ]
    },
    {
      "cell_type": "markdown",
      "metadata": {
        "id": "0eRyEcBiIfTL"
      },
      "source": [
        "***RISCO DIVERSIFICADO***"
      ]
    },
    {
      "cell_type": "code",
      "metadata": {
        "colab": {
          "base_uri": "https://localhost:8080/"
        },
        "id": "RzBYUv2WC9wd",
        "outputId": "ed7fdbf7-bff3-453d-dda5-7acb3b0db45f"
      },
      "source": [
        "# variancia anual:\n",
        "PG_var_a = sec_returns['PG'].var() * 250\n",
        "PG_var_a"
      ],
      "execution_count": 12,
      "outputs": [
        {
          "output_type": "execute_result",
          "data": {
            "text/plain": [
              "0.03522845849657472"
            ]
          },
          "metadata": {
            "tags": []
          },
          "execution_count": 12
        }
      ]
    },
    {
      "cell_type": "code",
      "metadata": {
        "colab": {
          "base_uri": "https://localhost:8080/"
        },
        "id": "8ZxXYxsNcMf5",
        "outputId": "7f4cf307-be5e-49df-940f-d116811b2837"
      },
      "source": [
        "# variancia anual:\n",
        "BEI_var_a = sec_returns['BEI.DE'].var() * 250\n",
        "BEI_var_a"
      ],
      "execution_count": 13,
      "outputs": [
        {
          "output_type": "execute_result",
          "data": {
            "text/plain": [
              "0.04802717319136147"
            ]
          },
          "metadata": {
            "tags": []
          },
          "execution_count": 13
        }
      ]
    },
    {
      "cell_type": "code",
      "metadata": {
        "colab": {
          "base_uri": "https://localhost:8080/"
        },
        "id": "hL-MnVRAcMjg",
        "outputId": "4a05b56e-18ac-42ef-9719-5edac8bfe32c"
      },
      "source": [
        "# RISCO DIVERSIFICAVEL = variancia do portfolio - variancia anual ponderada\n",
        "risco_div = portf_var - (weights[0] ** 2 * PG_var_a) - (weights[1] ** 2 * BEI_var_a) \n",
        "risco_div"
      ],
      "execution_count": 14,
      "outputs": [
        {
          "output_type": "execute_result",
          "data": {
            "text/plain": [
              "0.005554586519886653"
            ]
          },
          "metadata": {
            "tags": []
          },
          "execution_count": 14
        }
      ]
    },
    {
      "cell_type": "code",
      "metadata": {
        "colab": {
          "base_uri": "https://localhost:8080/"
        },
        "id": "VLkR7ytLcMn3",
        "outputId": "82c397c0-2b72-4ab8-b4e8-12971a20388d"
      },
      "source": [
        "# formatando:\n",
        "print(str(round(risco_div*100, 3)) + '%')"
      ],
      "execution_count": 15,
      "outputs": [
        {
          "output_type": "stream",
          "text": [
            "0.555%\n"
          ],
          "name": "stdout"
        }
      ]
    },
    {
      "cell_type": "markdown",
      "metadata": {
        "id": "e3Co7aFIjqV7"
      },
      "source": [
        "***RISCO NAO DIVERSIFICADO***"
      ]
    },
    {
      "cell_type": "code",
      "metadata": {
        "colab": {
          "base_uri": "https://localhost:8080/"
        },
        "id": "XVSwuk6hcMqa",
        "outputId": "409de378-9ea3-4a49-9ec8-790368930144"
      },
      "source": [
        "# DOIS JEITOS DE OBTER:\n",
        "# 1 - VARIANCIA PORTIFOLIO - RISCO DIVERSIFICAVEL\n",
        "riscoNAO1 = portf_var - risco_div\n",
        "riscoNAO1"
      ],
      "execution_count": 16,
      "outputs": [
        {
          "output_type": "execute_result",
          "data": {
            "text/plain": [
              "0.02081390792198405"
            ]
          },
          "metadata": {
            "tags": []
          },
          "execution_count": 16
        }
      ]
    },
    {
      "cell_type": "code",
      "metadata": {
        "colab": {
          "base_uri": "https://localhost:8080/"
        },
        "id": "YTakQGgRcMsf",
        "outputId": "60a7c866-43b0-4c79-d83b-7ba26aaccd78"
      },
      "source": [
        "# 2 - SOMA DA VARIANCIA ANUAL PONDERADA \n",
        "riscoNAO2 = (weights[0] ** 2 * PG_var_a) + (weights[1] ** 2 * BEI_var_a) \n",
        "riscoNAO2"
      ],
      "execution_count": 17,
      "outputs": [
        {
          "output_type": "execute_result",
          "data": {
            "text/plain": [
              "0.020813907921984048"
            ]
          },
          "metadata": {
            "tags": []
          },
          "execution_count": 17
        }
      ]
    },
    {
      "cell_type": "code",
      "metadata": {
        "colab": {
          "base_uri": "https://localhost:8080/"
        },
        "id": "5IKORPsDlqZ3",
        "outputId": "fb08b93d-c349-42db-d179-26ff11aa7396"
      },
      "source": [
        "# Mesmo resultado?\n",
        "riscoNAO1 == riscoNAO2"
      ],
      "execution_count": 18,
      "outputs": [
        {
          "output_type": "execute_result",
          "data": {
            "text/plain": [
              "False"
            ]
          },
          "metadata": {
            "tags": []
          },
          "execution_count": 18
        }
      ]
    }
  ]
}
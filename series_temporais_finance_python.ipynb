{
  "nbformat": 4,
  "nbformat_minor": 0,
  "metadata": {
    "colab": {
      "name": "series-temporais-finance-python.ipynb",
      "provenance": [],
      "collapsed_sections": [],
      "authorship_tag": "ABX9TyM0FRNtq/wqxclLpJflkwsC"
    },
    "kernelspec": {
      "name": "python3",
      "display_name": "Python 3"
    }
  },
  "cells": [
    {
      "cell_type": "markdown",
      "metadata": {
        "id": "bjedAv7t_XNp"
      },
      "source": [
        "# CALCULO DO RETORNO SIMPLES DE UM ÚNICO ATIVO"
      ]
    },
    {
      "cell_type": "code",
      "metadata": {
        "id": "5Dhwf9pfAo6G"
      },
      "source": [
        "# RETORNO SIMPLES E RETORNO LOGARITMICO FORNECEM RESULTADOS DIFERENTES\n",
        "#RECOMENDAÇÃ:\n",
        "    #SIMPLES: Ao lidar com vários ativos ao longo do mesmo período de tempo\n",
        "    #LOGARITMICO: Ao lidar com um único ativo ao longo do tempo\n",
        "# OBS: lembrar o período para o qual calculamos a taxa de retorno(dia, mes, etc)\n"
      ],
      "execution_count": 1,
      "outputs": []
    },
    {
      "cell_type": "code",
      "metadata": {
        "id": "Tx0_MYc4CUlA"
      },
      "source": [
        "import numpy as np\n",
        "import pandas as pd\n",
        "import matplotlib.pyplot as plt\n",
        "import seaborn as sns\n",
        "from pandas_datareader import data as wb\n",
        "\n",
        "%matplotlib inline\n",
        "sns.set_style('whitegrid')"
      ],
      "execution_count": 2,
      "outputs": []
    },
    {
      "cell_type": "code",
      "metadata": {
        "colab": {
          "base_uri": "https://localhost:8080/",
          "height": 238
        },
        "id": "4yw1V_1QCVEk",
        "outputId": "bf99b7ec-c25b-4fdf-d710-f05df395a49e"
      },
      "source": [
        "PG = wb.DataReader('PG', data_source='yahoo', start='1995-1-1')\n",
        "PG.head()"
      ],
      "execution_count": 3,
      "outputs": [
        {
          "output_type": "execute_result",
          "data": {
            "text/html": [
              "<div>\n",
              "<style scoped>\n",
              "    .dataframe tbody tr th:only-of-type {\n",
              "        vertical-align: middle;\n",
              "    }\n",
              "\n",
              "    .dataframe tbody tr th {\n",
              "        vertical-align: top;\n",
              "    }\n",
              "\n",
              "    .dataframe thead th {\n",
              "        text-align: right;\n",
              "    }\n",
              "</style>\n",
              "<table border=\"1\" class=\"dataframe\">\n",
              "  <thead>\n",
              "    <tr style=\"text-align: right;\">\n",
              "      <th></th>\n",
              "      <th>High</th>\n",
              "      <th>Low</th>\n",
              "      <th>Open</th>\n",
              "      <th>Close</th>\n",
              "      <th>Volume</th>\n",
              "      <th>Adj Close</th>\n",
              "    </tr>\n",
              "    <tr>\n",
              "      <th>Date</th>\n",
              "      <th></th>\n",
              "      <th></th>\n",
              "      <th></th>\n",
              "      <th></th>\n",
              "      <th></th>\n",
              "      <th></th>\n",
              "    </tr>\n",
              "  </thead>\n",
              "  <tbody>\n",
              "    <tr>\n",
              "      <th>1995-01-03</th>\n",
              "      <td>15.62500</td>\n",
              "      <td>15.43750</td>\n",
              "      <td>15.46875</td>\n",
              "      <td>15.59375</td>\n",
              "      <td>3318400.0</td>\n",
              "      <td>8.215732</td>\n",
              "    </tr>\n",
              "    <tr>\n",
              "      <th>1995-01-04</th>\n",
              "      <td>15.65625</td>\n",
              "      <td>15.31250</td>\n",
              "      <td>15.53125</td>\n",
              "      <td>15.46875</td>\n",
              "      <td>2218800.0</td>\n",
              "      <td>8.149876</td>\n",
              "    </tr>\n",
              "    <tr>\n",
              "      <th>1995-01-05</th>\n",
              "      <td>15.43750</td>\n",
              "      <td>15.21875</td>\n",
              "      <td>15.37500</td>\n",
              "      <td>15.25000</td>\n",
              "      <td>2319600.0</td>\n",
              "      <td>8.034625</td>\n",
              "    </tr>\n",
              "    <tr>\n",
              "      <th>1995-01-06</th>\n",
              "      <td>15.40625</td>\n",
              "      <td>15.15625</td>\n",
              "      <td>15.15625</td>\n",
              "      <td>15.28125</td>\n",
              "      <td>3438000.0</td>\n",
              "      <td>8.051086</td>\n",
              "    </tr>\n",
              "    <tr>\n",
              "      <th>1995-01-09</th>\n",
              "      <td>15.40625</td>\n",
              "      <td>15.18750</td>\n",
              "      <td>15.34375</td>\n",
              "      <td>15.21875</td>\n",
              "      <td>1795200.0</td>\n",
              "      <td>8.018162</td>\n",
              "    </tr>\n",
              "  </tbody>\n",
              "</table>\n",
              "</div>"
            ],
            "text/plain": [
              "                High       Low      Open     Close     Volume  Adj Close\n",
              "Date                                                                    \n",
              "1995-01-03  15.62500  15.43750  15.46875  15.59375  3318400.0   8.215732\n",
              "1995-01-04  15.65625  15.31250  15.53125  15.46875  2218800.0   8.149876\n",
              "1995-01-05  15.43750  15.21875  15.37500  15.25000  2319600.0   8.034625\n",
              "1995-01-06  15.40625  15.15625  15.15625  15.28125  3438000.0   8.051086\n",
              "1995-01-09  15.40625  15.18750  15.34375  15.21875  1795200.0   8.018162"
            ]
          },
          "metadata": {
            "tags": []
          },
          "execution_count": 3
        }
      ]
    },
    {
      "cell_type": "code",
      "metadata": {
        "colab": {
          "base_uri": "https://localhost:8080/",
          "height": 238
        },
        "id": "XLcMixRsCVGv",
        "outputId": "09855118-063c-426f-c1d2-4305b8c4e3bc"
      },
      "source": [
        "PG.tail()"
      ],
      "execution_count": 4,
      "outputs": [
        {
          "output_type": "execute_result",
          "data": {
            "text/html": [
              "<div>\n",
              "<style scoped>\n",
              "    .dataframe tbody tr th:only-of-type {\n",
              "        vertical-align: middle;\n",
              "    }\n",
              "\n",
              "    .dataframe tbody tr th {\n",
              "        vertical-align: top;\n",
              "    }\n",
              "\n",
              "    .dataframe thead th {\n",
              "        text-align: right;\n",
              "    }\n",
              "</style>\n",
              "<table border=\"1\" class=\"dataframe\">\n",
              "  <thead>\n",
              "    <tr style=\"text-align: right;\">\n",
              "      <th></th>\n",
              "      <th>High</th>\n",
              "      <th>Low</th>\n",
              "      <th>Open</th>\n",
              "      <th>Close</th>\n",
              "      <th>Volume</th>\n",
              "      <th>Adj Close</th>\n",
              "    </tr>\n",
              "    <tr>\n",
              "      <th>Date</th>\n",
              "      <th></th>\n",
              "      <th></th>\n",
              "      <th></th>\n",
              "      <th></th>\n",
              "      <th></th>\n",
              "      <th></th>\n",
              "    </tr>\n",
              "  </thead>\n",
              "  <tbody>\n",
              "    <tr>\n",
              "      <th>2021-01-05</th>\n",
              "      <td>138.919998</td>\n",
              "      <td>136.270004</td>\n",
              "      <td>137.990005</td>\n",
              "      <td>138.699997</td>\n",
              "      <td>6856400.0</td>\n",
              "      <td>138.699997</td>\n",
              "    </tr>\n",
              "    <tr>\n",
              "      <th>2021-01-06</th>\n",
              "      <td>141.039993</td>\n",
              "      <td>138.600006</td>\n",
              "      <td>138.770004</td>\n",
              "      <td>140.160004</td>\n",
              "      <td>10578000.0</td>\n",
              "      <td>140.160004</td>\n",
              "    </tr>\n",
              "    <tr>\n",
              "      <th>2021-01-07</th>\n",
              "      <td>140.130005</td>\n",
              "      <td>138.039993</td>\n",
              "      <td>139.750000</td>\n",
              "      <td>138.850006</td>\n",
              "      <td>7355400.0</td>\n",
              "      <td>138.850006</td>\n",
              "    </tr>\n",
              "    <tr>\n",
              "      <th>2021-01-08</th>\n",
              "      <td>139.059998</td>\n",
              "      <td>137.000000</td>\n",
              "      <td>138.470001</td>\n",
              "      <td>138.789993</td>\n",
              "      <td>7447700.0</td>\n",
              "      <td>138.789993</td>\n",
              "    </tr>\n",
              "    <tr>\n",
              "      <th>2021-01-11</th>\n",
              "      <td>139.440002</td>\n",
              "      <td>137.929993</td>\n",
              "      <td>138.750000</td>\n",
              "      <td>138.445007</td>\n",
              "      <td>1523341.0</td>\n",
              "      <td>138.445007</td>\n",
              "    </tr>\n",
              "  </tbody>\n",
              "</table>\n",
              "</div>"
            ],
            "text/plain": [
              "                  High         Low  ...      Volume   Adj Close\n",
              "Date                                ...                        \n",
              "2021-01-05  138.919998  136.270004  ...   6856400.0  138.699997\n",
              "2021-01-06  141.039993  138.600006  ...  10578000.0  140.160004\n",
              "2021-01-07  140.130005  138.039993  ...   7355400.0  138.850006\n",
              "2021-01-08  139.059998  137.000000  ...   7447700.0  138.789993\n",
              "2021-01-11  139.440002  137.929993  ...   1523341.0  138.445007\n",
              "\n",
              "[5 rows x 6 columns]"
            ]
          },
          "metadata": {
            "tags": []
          },
          "execution_count": 4
        }
      ]
    },
    {
      "cell_type": "markdown",
      "metadata": {
        "id": "BXb85lw9F4pa"
      },
      "source": [
        "***OBS: PARA LIDAR COM UM UNICO ATIVO, É MELHOR USAR RETORNO LOGARITMO (PROXIMA SESSÃO) FIZ COM SIMPLES POR FINS EDUCACIONAIS/EXPERIMENTAÇÃO***"
      ]
    },
    {
      "cell_type": "code",
      "metadata": {
        "id": "oRN73uLUCVJO"
      },
      "source": [
        "# CRIANDO COLUNA PARA SALVAR A TAXA SIMPLES DE RETORNO:\n",
        "PG['simple return'] = (PG['Adj Close'] / PG['Adj Close'].shift(1)) -1"
      ],
      "execution_count": 5,
      "outputs": []
    },
    {
      "cell_type": "code",
      "metadata": {
        "colab": {
          "base_uri": "https://localhost:8080/"
        },
        "id": "9s72JCF8C_7m",
        "outputId": "6f9b2240-a6cb-4393-b3db-a365f0d02fe1"
      },
      "source": [
        "PG['simple return']"
      ],
      "execution_count": 6,
      "outputs": [
        {
          "output_type": "execute_result",
          "data": {
            "text/plain": [
              "Date\n",
              "1995-01-03         NaN\n",
              "1995-01-04   -0.008016\n",
              "1995-01-05   -0.014141\n",
              "1995-01-06    0.002049\n",
              "1995-01-09   -0.004089\n",
              "                ...   \n",
              "2021-01-05    0.006385\n",
              "2021-01-06    0.010526\n",
              "2021-01-07   -0.009346\n",
              "2021-01-08   -0.000432\n",
              "2021-01-11   -0.002486\n",
              "Name: simple return, Length: 6553, dtype: float64"
            ]
          },
          "metadata": {
            "tags": []
          },
          "execution_count": 6
        }
      ]
    },
    {
      "cell_type": "code",
      "metadata": {
        "colab": {
          "base_uri": "https://localhost:8080/",
          "height": 533
        },
        "id": "39O3xhAwC_-M",
        "outputId": "82f3662f-6aff-4d71-b0fa-8382970575ec"
      },
      "source": [
        "# SÉRIE TEMPORAL\n",
        "PG['simple return'].plot(figsize=(12,9), color='red')"
      ],
      "execution_count": 7,
      "outputs": [
        {
          "output_type": "execute_result",
          "data": {
            "text/plain": [
              "<matplotlib.axes._subplots.AxesSubplot at 0x7fab443d93c8>"
            ]
          },
          "metadata": {
            "tags": []
          },
          "execution_count": 7
        },
        {
          "output_type": "display_data",
          "data": {
            "image/png": "[encoded data removed]",
            "text/plain": [
              "<Figure size 864x648 with 1 Axes>"
            ]
          },
          "metadata": {
            "tags": []
          }
        }
      ]
    },
    {
      "cell_type": "code",
      "metadata": {
        "id": "r-NiNB1xDAC6"
      },
      "source": [
        "# CALCULO DA MEDIA DE RETORNO\n",
        "media_dia_retorno = PG['simple return'].mean()"
      ],
      "execution_count": 8,
      "outputs": []
    },
    {
      "cell_type": "code",
      "metadata": {
        "colab": {
          "base_uri": "https://localhost:8080/"
        },
        "id": "59vPeNaIDAFv",
        "outputId": "0ea5d9af-48bf-4807-86dc-54b2e55265da"
      },
      "source": [
        "media_dia_retorno"
      ],
      "execution_count": 9,
      "outputs": [
        {
          "output_type": "execute_result",
          "data": {
            "text/plain": [
              "0.0005335053378206256"
            ]
          },
          "metadata": {
            "tags": []
          },
          "execution_count": 9
        }
      ]
    },
    {
      "cell_type": "code",
      "metadata": {
        "id": "SMAvStobCUnZ"
      },
      "source": [
        "# COMO NÃO HÁ NEGOCIAÇÃO TODOS OS DIAS, DEVEMOS RELEVAR FIM DE SEMANA E FERIADOS\n",
        "# MEDIA DE CERCA DE 250 à 252 DIAS LETIVOS NO ANO \n",
        "media_dia_retorno = media_dia_retorno * 250"
      ],
      "execution_count": 10,
      "outputs": []
    },
    {
      "cell_type": "code",
      "metadata": {
        "colab": {
          "base_uri": "https://localhost:8080/"
        },
        "id": "wI4hzVATCUp6",
        "outputId": "5b869370-7b3e-4b9b-86a1-7830765b57b4"
      },
      "source": [
        "media_dia_retorno"
      ],
      "execution_count": 11,
      "outputs": [
        {
          "output_type": "execute_result",
          "data": {
            "text/plain": [
              "0.1333763344551564"
            ]
          },
          "metadata": {
            "tags": []
          },
          "execution_count": 11
        }
      ]
    },
    {
      "cell_type": "code",
      "metadata": {
        "colab": {
          "base_uri": "https://localhost:8080/"
        },
        "id": "-Za0MHisFPxM",
        "outputId": "1cf30133-9c57-494d-8e31-a17dc30bdaa7"
      },
      "source": [
        "# FORMATAR O RESULTADO: \n",
        "print(str(round(media_dia_retorno, 5) * 100) + '%')"
      ],
      "execution_count": 12,
      "outputs": [
        {
          "output_type": "stream",
          "text": [
            "13.338%\n"
          ],
          "name": "stdout"
        }
      ]
    },
    {
      "cell_type": "markdown",
      "metadata": {
        "id": "FS_2AaoV_bLH"
      },
      "source": [
        "# CALCULO DO RETORNO LOGARITMICO DE UM ÚNICO ATIVO ***(MAIS INDICADO PARA ESSE CASO)***"
      ]
    },
    {
      "cell_type": "code",
      "metadata": {
        "colab": {
          "base_uri": "https://localhost:8080/",
          "height": 238
        },
        "id": "JZKwKSzUFvOi",
        "outputId": "6e0726ff-2bb2-40fe-9a91-dd5895a2afc0"
      },
      "source": [
        "PG.head()"
      ],
      "execution_count": 13,
      "outputs": [
        {
          "output_type": "execute_result",
          "data": {
            "text/html": [
              "<div>\n",
              "<style scoped>\n",
              "    .dataframe tbody tr th:only-of-type {\n",
              "        vertical-align: middle;\n",
              "    }\n",
              "\n",
              "    .dataframe tbody tr th {\n",
              "        vertical-align: top;\n",
              "    }\n",
              "\n",
              "    .dataframe thead th {\n",
              "        text-align: right;\n",
              "    }\n",
              "</style>\n",
              "<table border=\"1\" class=\"dataframe\">\n",
              "  <thead>\n",
              "    <tr style=\"text-align: right;\">\n",
              "      <th></th>\n",
              "      <th>High</th>\n",
              "      <th>Low</th>\n",
              "      <th>Open</th>\n",
              "      <th>Close</th>\n",
              "      <th>Volume</th>\n",
              "      <th>Adj Close</th>\n",
              "      <th>simple return</th>\n",
              "    </tr>\n",
              "    <tr>\n",
              "      <th>Date</th>\n",
              "      <th></th>\n",
              "      <th></th>\n",
              "      <th></th>\n",
              "      <th></th>\n",
              "      <th></th>\n",
              "      <th></th>\n",
              "      <th></th>\n",
              "    </tr>\n",
              "  </thead>\n",
              "  <tbody>\n",
              "    <tr>\n",
              "      <th>1995-01-03</th>\n",
              "      <td>15.62500</td>\n",
              "      <td>15.43750</td>\n",
              "      <td>15.46875</td>\n",
              "      <td>15.59375</td>\n",
              "      <td>3318400.0</td>\n",
              "      <td>8.215732</td>\n",
              "      <td>NaN</td>\n",
              "    </tr>\n",
              "    <tr>\n",
              "      <th>1995-01-04</th>\n",
              "      <td>15.65625</td>\n",
              "      <td>15.31250</td>\n",
              "      <td>15.53125</td>\n",
              "      <td>15.46875</td>\n",
              "      <td>2218800.0</td>\n",
              "      <td>8.149876</td>\n",
              "      <td>-0.008016</td>\n",
              "    </tr>\n",
              "    <tr>\n",
              "      <th>1995-01-05</th>\n",
              "      <td>15.43750</td>\n",
              "      <td>15.21875</td>\n",
              "      <td>15.37500</td>\n",
              "      <td>15.25000</td>\n",
              "      <td>2319600.0</td>\n",
              "      <td>8.034625</td>\n",
              "      <td>-0.014141</td>\n",
              "    </tr>\n",
              "    <tr>\n",
              "      <th>1995-01-06</th>\n",
              "      <td>15.40625</td>\n",
              "      <td>15.15625</td>\n",
              "      <td>15.15625</td>\n",
              "      <td>15.28125</td>\n",
              "      <td>3438000.0</td>\n",
              "      <td>8.051086</td>\n",
              "      <td>0.002049</td>\n",
              "    </tr>\n",
              "    <tr>\n",
              "      <th>1995-01-09</th>\n",
              "      <td>15.40625</td>\n",
              "      <td>15.18750</td>\n",
              "      <td>15.34375</td>\n",
              "      <td>15.21875</td>\n",
              "      <td>1795200.0</td>\n",
              "      <td>8.018162</td>\n",
              "      <td>-0.004089</td>\n",
              "    </tr>\n",
              "  </tbody>\n",
              "</table>\n",
              "</div>"
            ],
            "text/plain": [
              "                High       Low      Open  ...     Volume  Adj Close  simple return\n",
              "Date                                      ...                                     \n",
              "1995-01-03  15.62500  15.43750  15.46875  ...  3318400.0   8.215732            NaN\n",
              "1995-01-04  15.65625  15.31250  15.53125  ...  2218800.0   8.149876      -0.008016\n",
              "1995-01-05  15.43750  15.21875  15.37500  ...  2319600.0   8.034625      -0.014141\n",
              "1995-01-06  15.40625  15.15625  15.15625  ...  3438000.0   8.051086       0.002049\n",
              "1995-01-09  15.40625  15.18750  15.34375  ...  1795200.0   8.018162      -0.004089\n",
              "\n",
              "[5 rows x 7 columns]"
            ]
          },
          "metadata": {
            "tags": []
          },
          "execution_count": 13
        }
      ]
    },
    {
      "cell_type": "code",
      "metadata": {
        "id": "mDPniz3iFvQ8"
      },
      "source": [
        "# CRIANDO COLUNA PARA SALVAR A TAXA LOGARITMICA DE RETORNO:\n",
        "# USANDO O np.log do Numpy\n",
        "PG['log return'] = np.log(PG['Adj Close'] / PG['Adj Close'].shift(1))"
      ],
      "execution_count": 14,
      "outputs": []
    },
    {
      "cell_type": "code",
      "metadata": {
        "colab": {
          "base_uri": "https://localhost:8080/"
        },
        "id": "rALq5agTFvTc",
        "outputId": "5e49d2a6-e1a6-4251-a068-870bc6d759b1"
      },
      "source": [
        "PG['log return'].head()"
      ],
      "execution_count": 15,
      "outputs": [
        {
          "output_type": "execute_result",
          "data": {
            "text/plain": [
              "Date\n",
              "1995-01-03         NaN\n",
              "1995-01-04   -0.008048\n",
              "1995-01-05   -0.014242\n",
              "1995-01-06    0.002047\n",
              "1995-01-09   -0.004098\n",
              "Name: log return, dtype: float64"
            ]
          },
          "metadata": {
            "tags": []
          },
          "execution_count": 15
        }
      ]
    },
    {
      "cell_type": "code",
      "metadata": {
        "colab": {
          "base_uri": "https://localhost:8080/"
        },
        "id": "pmci24XHFvWN",
        "outputId": "fdd90d36-f791-4cd6-d097-d7d98101f58e"
      },
      "source": [
        "PG['log return'].tail()"
      ],
      "execution_count": 16,
      "outputs": [
        {
          "output_type": "execute_result",
          "data": {
            "text/plain": [
              "Date\n",
              "2021-01-05    0.006365\n",
              "2021-01-06    0.010471\n",
              "2021-01-07   -0.009390\n",
              "2021-01-08   -0.000432\n",
              "2021-01-11   -0.002489\n",
              "Name: log return, dtype: float64"
            ]
          },
          "metadata": {
            "tags": []
          },
          "execution_count": 16
        }
      ]
    },
    {
      "cell_type": "code",
      "metadata": {
        "colab": {
          "base_uri": "https://localhost:8080/",
          "height": 533
        },
        "id": "9mxUpA31FvZh",
        "outputId": "162a72c1-ce8f-4fac-e88e-73a8fd260714"
      },
      "source": [
        "# SÉRIE TEMPORAL\n",
        "PG['log return'].plot(figsize=(12,9), color='green')"
      ],
      "execution_count": 17,
      "outputs": [
        {
          "output_type": "execute_result",
          "data": {
            "text/plain": [
              "<matplotlib.axes._subplots.AxesSubplot at 0x7fab447bfcc0>"
            ]
          },
          "metadata": {
            "tags": []
          },
          "execution_count": 17
        },
        {
          "output_type": "display_data",
          "data": {
            "image/png": "[encoded data removed]",
            "text/plain": [
              "<Figure size 864x648 with 1 Axes>"
            ]
          },
          "metadata": {
            "tags": []
          }
        }
      ]
    },
    {
      "cell_type": "code",
      "metadata": {
        "id": "tkrBvQjLG9xR"
      },
      "source": [
        "# CALCULO DA MEDIA DE RETORNO, Já Multiplicas pelos dias letivos do ano:\n",
        "media_retorno = PG['log return'].mean() *250"
      ],
      "execution_count": 18,
      "outputs": []
    },
    {
      "cell_type": "code",
      "metadata": {
        "colab": {
          "base_uri": "https://localhost:8080/"
        },
        "id": "0hW9FPhkHLyp",
        "outputId": "5f229fd7-f9ca-4f21-cd82-a038f55ccdf8"
      },
      "source": [
        "media_retorno"
      ],
      "execution_count": 19,
      "outputs": [
        {
          "output_type": "execute_result",
          "data": {
            "text/plain": [
              "0.10776947424792598"
            ]
          },
          "metadata": {
            "tags": []
          },
          "execution_count": 19
        }
      ]
    },
    {
      "cell_type": "code",
      "metadata": {
        "id": "oVnHK3kFHL1E"
      },
      "source": [
        "# Multiplicas pelos dias do ano:\n",
        "media_retorno = media_retorno"
      ],
      "execution_count": 20,
      "outputs": []
    },
    {
      "cell_type": "code",
      "metadata": {
        "colab": {
          "base_uri": "https://localhost:8080/"
        },
        "id": "bYFAFNatIBhW",
        "outputId": "948d5f9a-bd65-45d9-ad48-f53cf9848082"
      },
      "source": [
        "# FORMATAR O RESULTADO: \n",
        "print(str(round(media_retorno, 5) * 100) + '%')"
      ],
      "execution_count": 21,
      "outputs": [
        {
          "output_type": "stream",
          "text": [
            "10.777000000000001%\n"
          ],
          "name": "stdout"
        }
      ]
    }
  ]
}